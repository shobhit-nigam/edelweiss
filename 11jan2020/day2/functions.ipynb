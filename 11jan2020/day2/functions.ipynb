{
 "cells": [
  {
   "cell_type": "code",
   "execution_count": 1,
   "metadata": {},
   "outputs": [],
   "source": [
    "def funca(la, lb):\n",
    "    lc = la + lb\n",
    "    return lc"
   ]
  },
  {
   "cell_type": "code",
   "execution_count": 2,
   "metadata": {},
   "outputs": [],
   "source": [
    "x = funca(34, 5)"
   ]
  },
  {
   "cell_type": "code",
   "execution_count": 3,
   "metadata": {},
   "outputs": [
    {
     "data": {
      "text/plain": [
       "39"
      ]
     },
     "execution_count": 3,
     "metadata": {},
     "output_type": "execute_result"
    }
   ],
   "source": [
    "x"
   ]
  },
  {
   "cell_type": "code",
   "execution_count": 4,
   "metadata": {},
   "outputs": [],
   "source": [
    "def greet():\n",
    "    print(\"hello\")\n",
    "    print(\"how are you\")\n",
    "    print(\"nice dp\")"
   ]
  },
  {
   "cell_type": "code",
   "execution_count": 5,
   "metadata": {},
   "outputs": [
    {
     "name": "stdout",
     "output_type": "stream",
     "text": [
      "hello\n",
      "how are you\n",
      "nice dp\n"
     ]
    }
   ],
   "source": [
    "greet()"
   ]
  },
  {
   "cell_type": "code",
   "execution_count": 6,
   "metadata": {},
   "outputs": [
    {
     "name": "stdout",
     "output_type": "stream",
     "text": [
      "hello\n",
      "how are you\n",
      "nice dp\n"
     ]
    }
   ],
   "source": [
    "greet()"
   ]
  },
  {
   "cell_type": "code",
   "execution_count": 7,
   "metadata": {},
   "outputs": [],
   "source": [
    "def funcb(la, lb, lc):\n",
    "    print(\"la =\", la)\n",
    "    print(\"lb =\", lb)\n",
    "    print(\"lc =\", lc)"
   ]
  },
  {
   "cell_type": "code",
   "execution_count": 8,
   "metadata": {},
   "outputs": [
    {
     "name": "stdout",
     "output_type": "stream",
     "text": [
      "la = 3\n",
      "lb = 4\n",
      "lc = 6\n"
     ]
    }
   ],
   "source": [
    "funcb(3, 4, 6)"
   ]
  },
  {
   "cell_type": "code",
   "execution_count": 9,
   "metadata": {},
   "outputs": [
    {
     "ename": "TypeError",
     "evalue": "funcb() missing 1 required positional argument: 'lc'",
     "output_type": "error",
     "traceback": [
      "\u001b[0;31m---------------------------------------------------------------------------\u001b[0m",
      "\u001b[0;31mTypeError\u001b[0m                                 Traceback (most recent call last)",
      "\u001b[0;32m<ipython-input-9-27116437fc10>\u001b[0m in \u001b[0;36m<module>\u001b[0;34m\u001b[0m\n\u001b[0;32m----> 1\u001b[0;31m \u001b[0mfuncb\u001b[0m\u001b[0;34m(\u001b[0m\u001b[0;36m3\u001b[0m\u001b[0;34m,\u001b[0m \u001b[0;36m4\u001b[0m\u001b[0;34m)\u001b[0m\u001b[0;34m\u001b[0m\u001b[0;34m\u001b[0m\u001b[0m\n\u001b[0m",
      "\u001b[0;31mTypeError\u001b[0m: funcb() missing 1 required positional argument: 'lc'"
     ]
    }
   ],
   "source": [
    "funcb(3, 4)"
   ]
  },
  {
   "cell_type": "code",
   "execution_count": 10,
   "metadata": {},
   "outputs": [],
   "source": [
    "def funcb(la=0, lb=0, lc=0):\n",
    "    print(\"la =\", la)\n",
    "    print(\"lb =\", lb)\n",
    "    print(\"lc =\", lc)"
   ]
  },
  {
   "cell_type": "code",
   "execution_count": 11,
   "metadata": {},
   "outputs": [
    {
     "name": "stdout",
     "output_type": "stream",
     "text": [
      "la = 8\n",
      "lb = 10\n",
      "lc = 0\n"
     ]
    }
   ],
   "source": [
    "funcb(8, 10)"
   ]
  },
  {
   "cell_type": "code",
   "execution_count": 12,
   "metadata": {},
   "outputs": [
    {
     "name": "stdout",
     "output_type": "stream",
     "text": [
      "la = 0\n",
      "lb = 0\n",
      "lc = 0\n"
     ]
    }
   ],
   "source": [
    "funcb()"
   ]
  },
  {
   "cell_type": "code",
   "execution_count": 13,
   "metadata": {},
   "outputs": [],
   "source": [
    "def funcc(la, lb=0, lc=0):\n",
    "    print(\"la =\", la)\n",
    "    print(\"lb =\", lb)\n",
    "    print(\"lc =\", lc)"
   ]
  },
  {
   "cell_type": "code",
   "execution_count": 14,
   "metadata": {},
   "outputs": [
    {
     "name": "stdout",
     "output_type": "stream",
     "text": [
      "la = 100\n",
      "lb = 200\n",
      "lc = 300\n"
     ]
    }
   ],
   "source": [
    "funcc(100, 200, 300)"
   ]
  },
  {
   "cell_type": "code",
   "execution_count": 15,
   "metadata": {},
   "outputs": [
    {
     "name": "stdout",
     "output_type": "stream",
     "text": [
      "la = 100\n",
      "lb = 0\n",
      "lc = 0\n"
     ]
    }
   ],
   "source": [
    "funcc(100)"
   ]
  },
  {
   "cell_type": "code",
   "execution_count": 16,
   "metadata": {},
   "outputs": [
    {
     "name": "stdout",
     "output_type": "stream",
     "text": [
      "la = 0\n",
      "lb = 0\n",
      "lc = 0\n"
     ]
    }
   ],
   "source": [
    "funcc()"
   ]
  },
  {
   "cell_type": "code",
   "execution_count": 17,
   "metadata": {},
   "outputs": [],
   "source": [
    "def funcd(la=0, lb=0, lc=0):\n",
    "    print(\"la =\", la)\n",
    "    print(\"lb =\", lb)\n",
    "    print(\"lc =\", lc)"
   ]
  },
  {
   "cell_type": "code",
   "execution_count": 18,
   "metadata": {},
   "outputs": [
    {
     "name": "stdout",
     "output_type": "stream",
     "text": [
      "la = 100\n",
      "lb = 0\n",
      "lc = 20\n"
     ]
    }
   ],
   "source": [
    "funcd(la=100, lc = 20)"
   ]
  },
  {
   "cell_type": "code",
   "execution_count": 19,
   "metadata": {},
   "outputs": [
    {
     "name": "stdout",
     "output_type": "stream",
     "text": [
      "Help on function funcd in module __main__:\n",
      "\n",
      "funcd(la=0, lb=0, lc=0)\n",
      "\n"
     ]
    }
   ],
   "source": [
    "help(funcd)"
   ]
  },
  {
   "cell_type": "code",
   "execution_count": 20,
   "metadata": {},
   "outputs": [
    {
     "name": "stdout",
     "output_type": "stream",
     "text": [
      "hello\n",
      "hi\n",
      "hey\n"
     ]
    }
   ],
   "source": [
    "print(\"hello\")\n",
    "print(\"hi\")\n",
    "print(\"hey\")"
   ]
  },
  {
   "cell_type": "code",
   "execution_count": 21,
   "metadata": {},
   "outputs": [
    {
     "name": "stdout",
     "output_type": "stream",
     "text": [
      "hello,hi,hey\n"
     ]
    }
   ],
   "source": [
    "print(\"hello\", end=',')\n",
    "print(\"hi\", end=',')\n",
    "print(\"hey\")"
   ]
  },
  {
   "cell_type": "code",
   "execution_count": 22,
   "metadata": {},
   "outputs": [
    {
     "name": "stdout",
     "output_type": "stream",
     "text": [
      "Help on built-in function print in module builtins:\n",
      "\n",
      "print(...)\n",
      "    print(value, ..., sep=' ', end='\\n', file=sys.stdout, flush=False)\n",
      "    \n",
      "    Prints the values to a stream, or to sys.stdout by default.\n",
      "    Optional keyword arguments:\n",
      "    file:  a file-like object (stream); defaults to the current sys.stdout.\n",
      "    sep:   string inserted between values, default a space.\n",
      "    end:   string appended after the last value, default a newline.\n",
      "    flush: whether to forcibly flush the stream.\n",
      "\n"
     ]
    }
   ],
   "source": [
    "help(print)"
   ]
  },
  {
   "cell_type": "code",
   "execution_count": 23,
   "metadata": {},
   "outputs": [],
   "source": [
    "def funce():\n",
    "    print(\"returning multiple vales\")\n",
    "    return 9, 12, 34"
   ]
  },
  {
   "cell_type": "code",
   "execution_count": 24,
   "metadata": {},
   "outputs": [
    {
     "name": "stdout",
     "output_type": "stream",
     "text": [
      "returning multiple vales\n"
     ]
    }
   ],
   "source": [
    "x, y, z = funce()"
   ]
  },
  {
   "cell_type": "code",
   "execution_count": 25,
   "metadata": {},
   "outputs": [
    {
     "data": {
      "text/plain": [
       "12"
      ]
     },
     "execution_count": 25,
     "metadata": {},
     "output_type": "execute_result"
    }
   ],
   "source": [
    "y"
   ]
  },
  {
   "cell_type": "code",
   "execution_count": 27,
   "metadata": {},
   "outputs": [
    {
     "name": "stdout",
     "output_type": "stream",
     "text": [
      "returning multiple vales\n"
     ]
    }
   ],
   "source": [
    "x = funce()"
   ]
  },
  {
   "cell_type": "code",
   "execution_count": 28,
   "metadata": {},
   "outputs": [
    {
     "data": {
      "text/plain": [
       "tuple"
      ]
     },
     "execution_count": 28,
     "metadata": {},
     "output_type": "execute_result"
    }
   ],
   "source": [
    "type(x)"
   ]
  },
  {
   "cell_type": "code",
   "execution_count": 29,
   "metadata": {},
   "outputs": [
    {
     "name": "stdout",
     "output_type": "stream",
     "text": [
      "Help on function funce in module __main__:\n",
      "\n",
      "funce()\n",
      "\n"
     ]
    }
   ],
   "source": [
    "help(funce)"
   ]
  },
  {
   "cell_type": "code",
   "execution_count": 30,
   "metadata": {},
   "outputs": [],
   "source": [
    "def funce():\n",
    "    \"this function is used to show multpile return values\"\n",
    "    print(\"returning multiple vales\")\n",
    "    return 9, 12, 34"
   ]
  },
  {
   "cell_type": "code",
   "execution_count": 31,
   "metadata": {},
   "outputs": [
    {
     "name": "stdout",
     "output_type": "stream",
     "text": [
      "Help on function funce in module __main__:\n",
      "\n",
      "funce()\n",
      "    this function is used to show multpile return values\n",
      "\n"
     ]
    }
   ],
   "source": [
    "help(funce)"
   ]
  },
  {
   "cell_type": "code",
   "execution_count": 32,
   "metadata": {},
   "outputs": [],
   "source": [
    "def funce():\n",
    "    \"this function is used to show multpile return values\"\n",
    "    print(\"returning multiple vales\")\n",
    "    return 9, 12, 34"
   ]
  },
  {
   "cell_type": "code",
   "execution_count": 33,
   "metadata": {},
   "outputs": [
    {
     "data": {
      "text/plain": [
       "'this function is used to show multpile return values'"
      ]
     },
     "execution_count": 33,
     "metadata": {},
     "output_type": "execute_result"
    }
   ],
   "source": [
    "funce.__doc__"
   ]
  },
  {
   "cell_type": "code",
   "execution_count": 35,
   "metadata": {},
   "outputs": [],
   "source": [
    "def funce():\n",
    "    \"\"\"this function is used to \n",
    "    show multpile return values\"\"\"\n",
    "    print(\"returning multiple vales\")\n",
    "    return 9, 12, 34"
   ]
  },
  {
   "cell_type": "code",
   "execution_count": 36,
   "metadata": {},
   "outputs": [
    {
     "name": "stdout",
     "output_type": "stream",
     "text": [
      "Help on function funce in module __main__:\n",
      "\n",
      "funce()\n",
      "    this function is used to \n",
      "    show multpile return values\n",
      "\n"
     ]
    }
   ],
   "source": [
    "help(funce)"
   ]
  },
  {
   "cell_type": "code",
   "execution_count": 37,
   "metadata": {},
   "outputs": [],
   "source": [
    "details = \"\"\"9949999239\n",
    "            Mr.Nigam@gmail.com\n",
    "            Shobhit.Nigam@zeolearn.com\"\"\""
   ]
  },
  {
   "cell_type": "code",
   "execution_count": 38,
   "metadata": {},
   "outputs": [],
   "source": [
    "listx = [6, 9, 10, 20, 33]\n",
    "listy = [7, 9, 10, 23, 44]"
   ]
  },
  {
   "cell_type": "code",
   "execution_count": 48,
   "metadata": {},
   "outputs": [],
   "source": [
    "def addlist(la, lb):\n",
    "    lc = []\n",
    "    if(len(la)==len(lb)):\n",
    "        for i in range(len(la)):\n",
    "            lc.append(la[i]+lb[i])\n",
    "#            print(lc)\n",
    "    else:\n",
    "        print(\"list size are not same, can not add\")\n",
    "    return lc"
   ]
  },
  {
   "cell_type": "code",
   "execution_count": 46,
   "metadata": {},
   "outputs": [
    {
     "name": "stdout",
     "output_type": "stream",
     "text": [
      "[13]\n",
      "[13, 18]\n",
      "[13, 18, 20]\n",
      "[13, 18, 20, 43]\n",
      "[13, 18, 20, 43, 77]\n"
     ]
    }
   ],
   "source": [
    "listz = addlist(listx, listy)"
   ]
  },
  {
   "cell_type": "code",
   "execution_count": 41,
   "metadata": {},
   "outputs": [
    {
     "data": {
      "text/plain": [
       "[13, 18, 20, 43, 77]"
      ]
     },
     "execution_count": 41,
     "metadata": {},
     "output_type": "execute_result"
    }
   ],
   "source": [
    "listz"
   ]
  },
  {
   "cell_type": "code",
   "execution_count": 42,
   "metadata": {},
   "outputs": [],
   "source": [
    "listp = addlist([2, 3, 4], [1, 2, 3])"
   ]
  },
  {
   "cell_type": "code",
   "execution_count": 43,
   "metadata": {},
   "outputs": [
    {
     "data": {
      "text/plain": [
       "[3, 5, 7]"
      ]
     },
     "execution_count": 43,
     "metadata": {},
     "output_type": "execute_result"
    }
   ],
   "source": [
    "listp"
   ]
  },
  {
   "cell_type": "code",
   "execution_count": 44,
   "metadata": {},
   "outputs": [
    {
     "name": "stdout",
     "output_type": "stream",
     "text": [
      "list size are not same, can not add\n"
     ]
    }
   ],
   "source": [
    "listq = addlist([2, 3], [1, 2, 3])"
   ]
  },
  {
   "cell_type": "code",
   "execution_count": 49,
   "metadata": {},
   "outputs": [],
   "source": [
    "x  = addlist([2, 3], [10, 20])"
   ]
  },
  {
   "cell_type": "code",
   "execution_count": 50,
   "metadata": {},
   "outputs": [
    {
     "data": {
      "text/plain": [
       "[12, 23]"
      ]
     },
     "execution_count": 50,
     "metadata": {},
     "output_type": "execute_result"
    }
   ],
   "source": [
    "x"
   ]
  },
  {
   "cell_type": "code",
   "execution_count": 53,
   "metadata": {},
   "outputs": [],
   "source": [
    "def funcg(la=0, lb=0, *args):\n",
    "    print(\"la =\", la)\n",
    "    print(\"lb =\", lb)\n",
    "    print(\"args =\", args)"
   ]
  },
  {
   "cell_type": "code",
   "execution_count": 54,
   "metadata": {},
   "outputs": [
    {
     "name": "stdout",
     "output_type": "stream",
     "text": [
      "la = 20\n",
      "lb = 30\n",
      "args = (40, 50, 60, 70)\n"
     ]
    }
   ],
   "source": [
    "funcg(20, 30, 40, 50, 60, 70)"
   ]
  },
  {
   "cell_type": "code",
   "execution_count": 55,
   "metadata": {},
   "outputs": [],
   "source": [
    "def funcg(la=0, lb=0, *args, **kwargs):\n",
    "    print(\"la =\", la)\n",
    "    print(\"lb =\", lb)\n",
    "    print(\"-----------\")\n",
    "    for val in args:\n",
    "        print(val)\n",
    "    print(\"-----------\")\n",
    "    for key, val in kwargs.items():\n",
    "        print(key, \":\", val)"
   ]
  },
  {
   "cell_type": "code",
   "execution_count": 56,
   "metadata": {},
   "outputs": [
    {
     "name": "stdout",
     "output_type": "stream",
     "text": [
      "la = 11\n",
      "lb = 22\n",
      "-----------\n",
      "33\n",
      "44\n",
      "55\n",
      "-----------\n",
      "thor : hammer\n",
      "data : 45\n"
     ]
    }
   ],
   "source": [
    "funcg(11, 22, 33, 44, 55, thor='hammer', data=45)"
   ]
  },
  {
   "cell_type": "code",
   "execution_count": null,
   "metadata": {},
   "outputs": [],
   "source": []
  }
 ],
 "metadata": {
  "kernelspec": {
   "display_name": "Python 3",
   "language": "python",
   "name": "python3"
  },
  "language_info": {
   "codemirror_mode": {
    "name": "ipython",
    "version": 3
   },
   "file_extension": ".py",
   "mimetype": "text/x-python",
   "name": "python",
   "nbconvert_exporter": "python",
   "pygments_lexer": "ipython3",
   "version": "3.7.3"
  }
 },
 "nbformat": 4,
 "nbformat_minor": 2
}
